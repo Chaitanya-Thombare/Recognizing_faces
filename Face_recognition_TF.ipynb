{
  "nbformat": 4,
  "nbformat_minor": 0,
  "metadata": {
    "colab": {
      "name": "Face_recognition_TF.ipynb",
      "provenance": [],
      "collapsed_sections": [],
      "authorship_tag": "ABX9TyNlENUXbc5b+hi7JgSo/KbG",
      "include_colab_link": true
    },
    "kernelspec": {
      "display_name": "Python 3",
      "name": "python3"
    },
    "language_info": {
      "name": "python"
    }
  },
  "cells": [
    {
      "cell_type": "markdown",
      "metadata": {
        "id": "view-in-github",
        "colab_type": "text"
      },
      "source": [
        "<a href=\"https://colab.research.google.com/github/Chaitanya-Thombare/Recognizing_faces/blob/main/Face_recognition_TF.ipynb\" target=\"_parent\"><img src=\"https://colab.research.google.com/assets/colab-badge.svg\" alt=\"Open In Colab\"/></a>"
      ]
    },
    {
      "cell_type": "code",
      "metadata": {
        "id": "AkUmMfnijqQM",
        "colab": {
          "base_uri": "https://localhost:8080/"
        },
        "outputId": "9ae7b91b-44c4-414f-b4ac-017b6af01917"
      },
      "source": [
        " !git clone https://github.com/Chaitanya-Thombare/Recognizing_faces"
      ],
      "execution_count": 1,
      "outputs": [
        {
          "output_type": "stream",
          "text": [
            "Cloning into 'Recognizing_faces'...\n",
            "remote: Enumerating objects: 86, done.\u001b[K\n",
            "remote: Counting objects: 100% (86/86), done.\u001b[K\n",
            "remote: Compressing objects: 100% (83/83), done.\u001b[K\n",
            "remote: Total 86 (delta 1), reused 0 (delta 0), pack-reused 0\u001b[K\n",
            "Unpacking objects: 100% (86/86), done.\n"
          ],
          "name": "stdout"
        }
      ]
    },
    {
      "cell_type": "code",
      "metadata": {
        "id": "8hLI8Sdt6cJg",
        "colab": {
          "base_uri": "https://localhost:8080/"
        },
        "outputId": "2c579d14-b43b-4241-effb-676937a03fc5"
      },
      "source": [
        "import tensorflow as tf\n",
        "from tensorflow import keras\n",
        "from tensorflow.keras import layers\n",
        "from tensorflow.keras.models import Sequential\n",
        "from keras.preprocessing import image \n",
        "\n",
        "batch_size = 32\n",
        "img_height = 180\n",
        "img_width = 180\n",
        "\n",
        "train_ds = tf.keras.preprocessing.image_dataset_from_directory(\n",
        "  \"/content/Recognizing_faces/Dataset/Chaitu_Dada_Dataset\",\n",
        "  validation_split=0.2,\n",
        "  subset=\"training\",\n",
        "  color_mode='grayscale',\n",
        "  seed=123,\n",
        "  image_size=(img_height, img_width),\n",
        "  batch_size=batch_size)\n",
        "train_ds.class_names"
      ],
      "execution_count": 2,
      "outputs": [
        {
          "output_type": "stream",
          "text": [
            "Found 36 files belonging to 2 classes.\n",
            "Using 29 files for training.\n"
          ],
          "name": "stdout"
        },
        {
          "output_type": "execute_result",
          "data": {
            "text/plain": [
              "['Chaitu', 'Dada']"
            ]
          },
          "metadata": {
            "tags": []
          },
          "execution_count": 2
        }
      ]
    },
    {
      "cell_type": "code",
      "metadata": {
        "id": "W6QYAa3XvXYY"
      },
      "source": [
        "num_classes = 2\n",
        "\n",
        "model = Sequential([\n",
        "  layers.experimental.preprocessing.Rescaling(1./255, input_shape=(img_height, img_width, 1)),\n",
        "  layers.Conv2D(16, 3, padding='same', activation='relu'),\n",
        "  layers.MaxPooling2D(),\n",
        "\n",
        "  layers.Conv2D(32, 3, padding='same', activation='relu'),\n",
        "  layers.MaxPooling2D(),\n",
        "\n",
        "  layers.Conv2D(64, 3, padding='same', activation='relu'),\n",
        "  layers.MaxPooling2D(),\n",
        "  \n",
        "  layers.Flatten(),\n",
        "  layers.Dense(128, activation='relu'),\n",
        "  layers.Dense(num_classes)\n",
        "])"
      ],
      "execution_count": 3,
      "outputs": []
    },
    {
      "cell_type": "code",
      "metadata": {
        "id": "Pxsb-qQ-nv40"
      },
      "source": [
        "model.compile(optimizer='adam',\n",
        "              loss=tf.keras.losses.SparseCategoricalCrossentropy(from_logits=True),\n",
        "              metrics=['accuracy'])"
      ],
      "execution_count": 4,
      "outputs": []
    },
    {
      "cell_type": "code",
      "metadata": {
        "id": "SQ5XozMGn7Qm",
        "colab": {
          "base_uri": "https://localhost:8080/"
        },
        "outputId": "a4fd3375-1bf6-4e45-bea5-bece391ebba9"
      },
      "source": [
        "epochs=20\n",
        "history = model.fit(\n",
        "  train_ds,\n",
        "  #validation_data=val_ds,\n",
        "  epochs=epochs\n",
        ")"
      ],
      "execution_count": 5,
      "outputs": [
        {
          "output_type": "stream",
          "text": [
            "Epoch 1/20\n",
            "1/1 [==============================] - 2s 2s/step - loss: 0.6934 - accuracy: 0.4828\n",
            "Epoch 2/20\n",
            "1/1 [==============================] - 1s 785ms/step - loss: 0.6233 - accuracy: 0.7241\n",
            "Epoch 3/20\n",
            "1/1 [==============================] - 1s 777ms/step - loss: 0.5367 - accuracy: 0.7241\n",
            "Epoch 4/20\n",
            "1/1 [==============================] - 1s 771ms/step - loss: 0.5068 - accuracy: 0.7241\n",
            "Epoch 5/20\n",
            "1/1 [==============================] - 1s 773ms/step - loss: 0.4340 - accuracy: 0.7586\n",
            "Epoch 6/20\n",
            "1/1 [==============================] - 1s 807ms/step - loss: 0.3641 - accuracy: 0.7586\n",
            "Epoch 7/20\n",
            "1/1 [==============================] - 1s 772ms/step - loss: 0.2846 - accuracy: 0.9655\n",
            "Epoch 8/20\n",
            "1/1 [==============================] - 1s 773ms/step - loss: 0.2234 - accuracy: 1.0000\n",
            "Epoch 9/20\n",
            "1/1 [==============================] - 1s 770ms/step - loss: 0.1674 - accuracy: 0.9655\n",
            "Epoch 10/20\n",
            "1/1 [==============================] - 1s 785ms/step - loss: 0.1006 - accuracy: 1.0000\n",
            "Epoch 11/20\n",
            "1/1 [==============================] - 1s 804ms/step - loss: 0.0971 - accuracy: 1.0000\n",
            "Epoch 12/20\n",
            "1/1 [==============================] - 1s 793ms/step - loss: 0.0514 - accuracy: 1.0000\n",
            "Epoch 13/20\n",
            "1/1 [==============================] - 1s 792ms/step - loss: 0.0491 - accuracy: 1.0000\n",
            "Epoch 14/20\n",
            "1/1 [==============================] - 1s 788ms/step - loss: 0.0187 - accuracy: 1.0000\n",
            "Epoch 15/20\n",
            "1/1 [==============================] - 1s 784ms/step - loss: 0.0234 - accuracy: 1.0000\n",
            "Epoch 16/20\n",
            "1/1 [==============================] - 1s 782ms/step - loss: 0.0126 - accuracy: 1.0000\n",
            "Epoch 17/20\n",
            "1/1 [==============================] - 1s 795ms/step - loss: 0.0042 - accuracy: 1.0000\n",
            "Epoch 18/20\n",
            "1/1 [==============================] - 1s 771ms/step - loss: 0.0043 - accuracy: 1.0000\n",
            "Epoch 19/20\n",
            "1/1 [==============================] - 1s 785ms/step - loss: 0.0049 - accuracy: 1.0000\n",
            "Epoch 20/20\n",
            "1/1 [==============================] - 1s 790ms/step - loss: 0.0032 - accuracy: 1.0000\n"
          ],
          "name": "stdout"
        }
      ]
    },
    {
      "cell_type": "code",
      "metadata": {
        "id": "IulqSu_ggnyM"
      },
      "source": [
        "model.save(\"trained.h5\")"
      ],
      "execution_count": null,
      "outputs": []
    }
  ]
}